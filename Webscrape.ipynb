{
 "cells": [
  {
   "cell_type": "markdown",
   "id": "53b1bd60",
   "metadata": {},
   "source": [
    "# Import Libraries"
   ]
  },
  {
   "cell_type": "code",
   "execution_count": 1,
   "id": "2cab21be",
   "metadata": {},
   "outputs": [],
   "source": [
    "import pandas as pd\n",
    "from selenium import webdriver\n",
    "from selenium.webdriver.chrome.options import Options\n",
    "from fake_useragent import UserAgent\n",
    "from bs4 import BeautifulSoup\n",
    "from login_info import cr_username\n",
    "from login_info import cr_password\n",
    "import time"
   ]
  },
  {
   "cell_type": "markdown",
   "id": "80d710c4",
   "metadata": {},
   "source": [
    "# Obtain Data"
   ]
  },
  {
   "cell_type": "markdown",
   "id": "eecb1304",
   "metadata": {},
   "source": [
    "Create Selenium webdriver"
   ]
  },
  {
   "cell_type": "code",
   "execution_count": 2,
   "id": "8f943a8c",
   "metadata": {},
   "outputs": [],
   "source": [
    "driver_path = 'chromedriver/chromedriver'\n",
    "options = Options()\n",
    "options.headless = False\n",
    "options.add_argument(\"--window-size=1920,1200\")\n",
    "driver = webdriver.Chrome(options=options, executable_path=driver_path)"
   ]
  },
  {
   "cell_type": "markdown",
   "id": "6bb1f3bb",
   "metadata": {},
   "source": [
    "Log into Consumer Reports website"
   ]
  },
  {
   "cell_type": "code",
   "execution_count": 3,
   "id": "793e19e4",
   "metadata": {},
   "outputs": [],
   "source": [
    "driver.get('https://www.consumerreports.org/cro/modal-login/index.htm')\n",
    "driver.find_element_by_xpath('/html/body/div/div/div/div/div[1]/form/div[1]/input').send_keys(cr_username)\n",
    "driver.find_element_by_xpath('/html/body/div/div/div/div/div[1]/form/div[2]/input').send_keys(cr_password)\n",
    "driver.find_element_by_xpath('/html/body/div/div/div/div/div[1]/form/div[6]/input').click()"
   ]
  },
  {
   "cell_type": "markdown",
   "id": "7d284458",
   "metadata": {},
   "source": [
    "Scrape Consume Reports vehicle classees"
   ]
  },
  {
   "cell_type": "code",
   "execution_count": 4,
   "id": "257b470d",
   "metadata": {},
   "outputs": [
    {
     "data": {
      "text/plain": [
       "['Hybrids/EVs',\n",
       " 'Luxury Cars',\n",
       " 'Minivans',\n",
       " 'Pickup Trucks',\n",
       " 'Sedans',\n",
       " 'Small Cars',\n",
       " 'Sports Cars',\n",
       " 'SUVs',\n",
       " 'Wagons']"
      ]
     },
     "execution_count": 4,
     "metadata": {},
     "output_type": "execute_result"
    }
   ],
   "source": [
    "driver.get('https://www.consumerreports.org/cars/types/used/convertibles')\n",
    "classes_html = driver.find_element_by_xpath('/html/body/div[2]/div/div/div[1]/div/div/ul').get_attribute('innerHTML')\n",
    "vehicle_class_soup = BeautifulSoup(classes_html, 'html.parser')\n",
    "vehicle_classes=[]\n",
    "for element in vehicle_class_soup.find_all('li'):\n",
    "    vehicle_classes.append(element.text.replace('\\n', ''))\n",
    "vehicle_classes"
   ]
  },
  {
   "cell_type": "markdown",
   "id": "6d7ded5d",
   "metadata": {},
   "source": [
    "Create list of vehicle class urls"
   ]
  },
  {
   "cell_type": "code",
   "execution_count": 5,
   "id": "7513e61f",
   "metadata": {},
   "outputs": [
    {
     "data": {
      "text/plain": [
       "['https://www.consumerreports.org/cars/types/used/hybrids-evs',\n",
       " 'https://www.consumerreports.org/cars/types/used/luxury-cars',\n",
       " 'https://www.consumerreports.org/cars/types/used/minivans',\n",
       " 'https://www.consumerreports.org/cars/types/used/pickup-trucks',\n",
       " 'https://www.consumerreports.org/cars/types/used/sedans',\n",
       " 'https://www.consumerreports.org/cars/types/used/small-cars',\n",
       " 'https://www.consumerreports.org/cars/types/used/sports-cars',\n",
       " 'https://www.consumerreports.org/cars/types/used/suvs',\n",
       " 'https://www.consumerreports.org/cars/types/used/wagons']"
      ]
     },
     "execution_count": 5,
     "metadata": {},
     "output_type": "execute_result"
    }
   ],
   "source": [
    "vehicle_class_urls=[]\n",
    "for vehicle_class in vehicle_classes:\n",
    "    formatted_vehicle_class = vehicle_class.replace('/', '-').replace(' ', '-').lower()\n",
    "    vehicle_class_urls.append(f'https://www.consumerreports.org/cars/types/used/{formatted_vehicle_class}')\n",
    "vehicle_class_urls"
   ]
  },
  {
   "cell_type": "markdown",
   "id": "2e8d095e",
   "metadata": {},
   "source": [
    "Get html for each vehicle class url with list of vehicles for that class"
   ]
  },
  {
   "cell_type": "code",
   "execution_count": 6,
   "id": "4fbda868",
   "metadata": {},
   "outputs": [],
   "source": [
    "soups = []\n",
    "for url in vehicle_class_urls:\n",
    "    driver.get(url)\n",
    "    soups.append(BeautifulSoup(driver.page_source, 'html.parser'))"
   ]
  },
  {
   "cell_type": "code",
   "execution_count": null,
   "id": "05859c8c",
   "metadata": {},
   "outputs": [],
   "source": []
  },
  {
   "cell_type": "code",
   "execution_count": null,
   "id": "eed311d0",
   "metadata": {},
   "outputs": [],
   "source": []
  },
  {
   "cell_type": "code",
   "execution_count": null,
   "id": "007c1eb9",
   "metadata": {},
   "outputs": [],
   "source": []
  },
  {
   "cell_type": "code",
   "execution_count": null,
   "id": "a2090e99",
   "metadata": {},
   "outputs": [],
   "source": []
  },
  {
   "cell_type": "code",
   "execution_count": null,
   "id": "b1c56dec",
   "metadata": {},
   "outputs": [],
   "source": []
  }
 ],
 "metadata": {
  "kernelspec": {
   "display_name": "Python 3",
   "language": "python",
   "name": "python3"
  },
  "language_info": {
   "codemirror_mode": {
    "name": "ipython",
    "version": 3
   },
   "file_extension": ".py",
   "mimetype": "text/x-python",
   "name": "python",
   "nbconvert_exporter": "python",
   "pygments_lexer": "ipython3",
   "version": "3.9.5"
  }
 },
 "nbformat": 4,
 "nbformat_minor": 5
}
