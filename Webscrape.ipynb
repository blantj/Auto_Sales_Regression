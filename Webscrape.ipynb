{
 "cells": [
  {
   "cell_type": "markdown",
   "id": "53b1bd60",
   "metadata": {},
   "source": [
    "# Import Libraries"
   ]
  },
  {
   "cell_type": "code",
   "execution_count": 13,
   "id": "2cab21be",
   "metadata": {},
   "outputs": [],
   "source": [
    "import pandas as pd\n",
    "from selenium import webdriver\n",
    "from selenium.webdriver.chrome.options import Options\n",
    "from fake_useragent import UserAgent\n",
    "from bs4 import BeautifulSoup\n",
    "from login_info import cr_username\n",
    "from login_info import cr_password\n",
    "import time"
   ]
  },
  {
   "cell_type": "markdown",
   "id": "80d710c4",
   "metadata": {},
   "source": [
    "# Obtain Data"
   ]
  },
  {
   "cell_type": "markdown",
   "id": "eecb1304",
   "metadata": {},
   "source": [
    "Create Selenium webdriver"
   ]
  },
  {
   "cell_type": "code",
   "execution_count": 14,
   "id": "8f943a8c",
   "metadata": {},
   "outputs": [],
   "source": [
    "driver_path = 'chromedriver/chromedriver'\n",
    "options = Options()\n",
    "options.headless = False\n",
    "options.add_argument(\"--window-size=1920,1200\")\n",
    "driver = webdriver.Chrome(options=options, executable_path=driver_path)"
   ]
  },
  {
   "cell_type": "markdown",
   "id": "6bb1f3bb",
   "metadata": {},
   "source": [
    "Log into Consumer Reports website"
   ]
  },
  {
   "cell_type": "code",
   "execution_count": 15,
   "id": "793e19e4",
   "metadata": {},
   "outputs": [],
   "source": [
    "driver.get('https://www.consumerreports.org/cro/modal-login/index.htm')\n",
    "driver.find_element_by_xpath('/html/body/div/div/div/div/div[1]/form/div[1]/input').send_keys(cr_username)\n",
    "driver.find_element_by_xpath('/html/body/div/div/div/div/div[1]/form/div[2]/input').send_keys(cr_password)\n",
    "driver.find_element_by_xpath('/html/body/div/div/div/div/div[1]/form/div[6]/input').click()"
   ]
  },
  {
   "cell_type": "markdown",
   "id": "7d284458",
   "metadata": {},
   "source": [
    "Scrape Consume Reports vehicle classees"
   ]
  },
  {
   "cell_type": "code",
   "execution_count": 16,
   "id": "257b470d",
   "metadata": {},
   "outputs": [
    {
     "data": {
      "text/plain": [
       "['Convertibles',\n",
       " 'Hybrids/EVs',\n",
       " 'Luxury Cars',\n",
       " 'Minivans',\n",
       " 'Pickup Trucks',\n",
       " 'Sedans',\n",
       " 'Small Cars',\n",
       " 'Sports Cars',\n",
       " 'SUVs',\n",
       " 'Wagons']"
      ]
     },
     "execution_count": 16,
     "metadata": {},
     "output_type": "execute_result"
    }
   ],
   "source": [
    "driver.get('https://www.consumerreports.org/cars/types/used/convertibles')\n",
    "classes_html = driver.find_element_by_xpath('/html/body/div[3]/div/div/div[1]/div').get_attribute('innerHTML')\n",
    "vehicle_class_soup = BeautifulSoup(classes_html, 'html.parser')\n",
    "vehicle_classes=['Convertibles']\n",
    "for element in vehicle_class_soup.find_all('li'):\n",
    "    vehicle_classes.append(element.text.replace('\\n', ''))\n",
    "vehicle_classes"
   ]
  },
  {
   "cell_type": "markdown",
   "id": "6d7ded5d",
   "metadata": {},
   "source": [
    "Create list of vehicle class urls"
   ]
  },
  {
   "cell_type": "code",
   "execution_count": 17,
   "id": "7513e61f",
   "metadata": {},
   "outputs": [
    {
     "data": {
      "text/plain": [
       "['https://www.consumerreports.org/cars/types/used/convertibles',\n",
       " 'https://www.consumerreports.org/cars/types/used/hybrids-evs',\n",
       " 'https://www.consumerreports.org/cars/types/used/luxury-cars',\n",
       " 'https://www.consumerreports.org/cars/types/used/minivans',\n",
       " 'https://www.consumerreports.org/cars/types/used/pickup-trucks',\n",
       " 'https://www.consumerreports.org/cars/types/used/sedans',\n",
       " 'https://www.consumerreports.org/cars/types/used/small-cars',\n",
       " 'https://www.consumerreports.org/cars/types/used/sports-cars',\n",
       " 'https://www.consumerreports.org/cars/types/used/suvs',\n",
       " 'https://www.consumerreports.org/cars/types/used/wagons']"
      ]
     },
     "execution_count": 17,
     "metadata": {},
     "output_type": "execute_result"
    }
   ],
   "source": [
    "vehicle_class_urls=[]\n",
    "for vehicle_class in vehicle_classes:\n",
    "    formatted_vehicle_class = vehicle_class.replace('/', '-').replace(' ', '-').lower()\n",
    "    vehicle_class_urls.append(f'https://www.consumerreports.org/cars/types/used/{formatted_vehicle_class}')\n",
    "vehicle_class_urls"
   ]
  },
  {
   "cell_type": "markdown",
   "id": "2e8d095e",
   "metadata": {},
   "source": [
    "Get html for each vehicle class url with list of vehicles for that class"
   ]
  },
  {
   "cell_type": "code",
   "execution_count": 18,
   "id": "4fbda868",
   "metadata": {},
   "outputs": [],
   "source": [
    "soups = []\n",
    "for url in vehicle_class_urls:\n",
    "    driver.get(url)\n",
    "    time.sleep(1)\n",
    "    table_html = driver.find_element_by_xpath('/html/body/div[4]/div/div[2]/div/div[2]/table/tbody').get_attribute('innerHTML')\n",
    "    soups.append(BeautifulSoup(table_html,'html.parser'))"
   ]
  },
  {
   "cell_type": "markdown",
   "id": "91481461",
   "metadata": {},
   "source": [
    "Create list of all Consumer Reports rated used vehicles from vehicle class urls html"
   ]
  },
  {
   "cell_type": "code",
   "execution_count": 19,
   "id": "d48df8ee",
   "metadata": {},
   "outputs": [
    {
     "data": {
      "text/plain": [
       "['Chevrolet:Silverado 1500',\n",
       " 'Land Rover:Range Rover Velar',\n",
       " 'Toyota:Prius C',\n",
       " 'Mercedes-Benz:B-Class Electric Drive',\n",
       " 'Chrysler:Pacifica',\n",
       " 'Audi:A7',\n",
       " 'Porsche:Panamera',\n",
       " 'Cadillac:CT4',\n",
       " 'Honda:Insight',\n",
       " 'Ram:1500']"
      ]
     },
     "execution_count": 19,
     "metadata": {},
     "output_type": "execute_result"
    }
   ],
   "source": [
    "cars_list = []\n",
    "for soup in soups:\n",
    "    for item in soup.find_all('tr'):\n",
    "        if len(item.find_all('td', {'rowspan': '4'}))>0:\n",
    "            model = item.find('td').find('div').find('div').find('div').find('a').find('span').text\n",
    "            brand = item.find('td').find('div').find('div').find('div').find('a').text.replace(model, '')\n",
    "            cars_list.append(brand+':'+model)\n",
    "\n",
    "cars_list = list(set(cars_list))\n",
    "cars_list[0:10]"
   ]
  },
  {
   "cell_type": "markdown",
   "id": "d80ac5f1",
   "metadata": {},
   "source": [
    "Create list of urls to scrape from cars list"
   ]
  },
  {
   "cell_type": "code",
   "execution_count": 20,
   "id": "eed311d0",
   "metadata": {},
   "outputs": [
    {
     "data": {
      "text/plain": [
       "['https://www.consumerreports.org/cars/chevrolet/silverado-1500/2019/overview/',\n",
       " 'https://www.consumerreports.org/cars/land-rover/range-rover-velar/2019/overview/',\n",
       " 'https://www.consumerreports.org/cars/toyota/prius-c/2019/overview/',\n",
       " 'https://www.consumerreports.org/cars/mercedes-benz/b-class-electric-drive/2019/overview/',\n",
       " 'https://www.consumerreports.org/cars/chrysler/pacifica/2019/overview/',\n",
       " 'https://www.consumerreports.org/cars/audi/a7/2019/overview/',\n",
       " 'https://www.consumerreports.org/cars/porsche/panamera/2019/overview/',\n",
       " 'https://www.consumerreports.org/cars/cadillac/ct4/2019/overview/',\n",
       " 'https://www.consumerreports.org/cars/honda/insight/2019/overview/',\n",
       " 'https://www.consumerreports.org/cars/ram/1500/2019/overview/']"
      ]
     },
     "execution_count": 20,
     "metadata": {},
     "output_type": "execute_result"
    }
   ],
   "source": [
    "reviews_urls_list = []\n",
    "for car in cars_list:\n",
    "    car = car.replace(' ', '-').lower()\n",
    "    car_brand = car.split(':')[0]\n",
    "    car_model = car.split(':')[1]\n",
    "    reviews_urls_list.append(f'https://www.consumerreports.org/cars/{car_brand}/{car_model}/2019/overview/')\n",
    "reviews_urls_list[0:10]"
   ]
  },
  {
   "cell_type": "markdown",
   "id": "104466e8",
   "metadata": {},
   "source": [
    "Get html for each car model's review"
   ]
  },
  {
   "cell_type": "code",
   "execution_count": 25,
   "id": "b1c56dec",
   "metadata": {},
   "outputs": [],
   "source": [
    "reviews_soups = []\n",
    "for review_url in reviews_urls_list:\n",
    "    driver.get(review_url)\n",
    "    soup_html = driver.page_source\n",
    "    reviews_soups.append(BeautifulSoup(soup_html,'html.parser'))"
   ]
  },
  {
   "cell_type": "code",
   "execution_count": null,
   "id": "4c7fe2fa",
   "metadata": {},
   "outputs": [],
   "source": []
  },
  {
   "cell_type": "code",
   "execution_count": null,
   "id": "1e1490f0",
   "metadata": {},
   "outputs": [],
   "source": []
  }
 ],
 "metadata": {
  "kernelspec": {
   "display_name": "Python 3",
   "language": "python",
   "name": "python3"
  },
  "language_info": {
   "codemirror_mode": {
    "name": "ipython",
    "version": 3
   },
   "file_extension": ".py",
   "mimetype": "text/x-python",
   "name": "python",
   "nbconvert_exporter": "python",
   "pygments_lexer": "ipython3",
   "version": "3.9.5"
  }
 },
 "nbformat": 4,
 "nbformat_minor": 5
}
