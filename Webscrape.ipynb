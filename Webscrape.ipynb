{
 "cells": [
  {
   "cell_type": "markdown",
   "id": "53b1bd60",
   "metadata": {},
   "source": [
    "# Import Libraries"
   ]
  },
  {
   "cell_type": "code",
   "execution_count": 61,
   "id": "2cab21be",
   "metadata": {},
   "outputs": [],
   "source": [
    "import pandas as pd\n",
    "from selenium import webdriver\n",
    "from selenium.webdriver.chrome.options import Options\n",
    "from fake_useragent import UserAgent\n",
    "from bs4 import BeautifulSoup\n",
    "from login_info import cr_username\n",
    "from login_info import cr_password\n",
    "import time"
   ]
  },
  {
   "cell_type": "markdown",
   "id": "80d710c4",
   "metadata": {},
   "source": [
    "# Obtain Data"
   ]
  },
  {
   "cell_type": "markdown",
   "id": "eecb1304",
   "metadata": {},
   "source": [
    "Create Selenium webdriver"
   ]
  },
  {
   "cell_type": "code",
   "execution_count": 62,
   "id": "8f943a8c",
   "metadata": {},
   "outputs": [],
   "source": [
    "driver_path = 'chromedriver/chromedriver'\n",
    "options = Options()\n",
    "options.headless = False\n",
    "options.add_argument(\"--window-size=1920,1200\")\n",
    "driver = webdriver.Chrome(options=options, executable_path=driver_path)"
   ]
  },
  {
   "cell_type": "markdown",
   "id": "6bb1f3bb",
   "metadata": {},
   "source": [
    "Log into Consumer Reports website"
   ]
  },
  {
   "cell_type": "code",
   "execution_count": 63,
   "id": "793e19e4",
   "metadata": {},
   "outputs": [],
   "source": [
    "driver.get('https://www.consumerreports.org/cro/modal-login/index.htm')\n",
    "driver.find_element_by_xpath('/html/body/div/div/div/div/div[1]/form/div[1]/input').send_keys(cr_username)\n",
    "driver.find_element_by_xpath('/html/body/div/div/div/div/div[1]/form/div[2]/input').send_keys(cr_password)\n",
    "driver.find_element_by_xpath('/html/body/div/div/div/div/div[1]/form/div[6]/input').click()"
   ]
  },
  {
   "cell_type": "markdown",
   "id": "7d284458",
   "metadata": {},
   "source": [
    "Scrape Consume Reports vehicle classees"
   ]
  },
  {
   "cell_type": "code",
   "execution_count": 64,
   "id": "257b470d",
   "metadata": {},
   "outputs": [
    {
     "data": {
      "text/plain": [
       "['Convertibles',\n",
       " 'Hybrids/EVs',\n",
       " 'Luxury Cars',\n",
       " 'Minivans',\n",
       " 'Pickup Trucks',\n",
       " 'Sedans',\n",
       " 'Small Cars',\n",
       " 'Sports Cars',\n",
       " 'SUVs',\n",
       " 'Wagons']"
      ]
     },
     "execution_count": 64,
     "metadata": {},
     "output_type": "execute_result"
    }
   ],
   "source": [
    "driver.get('https://www.consumerreports.org/cars/types/used/convertibles')\n",
    "classes_html = driver.find_element_by_xpath('/html/body/div[3]/div/div/div[1]/div').get_attribute('innerHTML')\n",
    "vehicle_class_soup = BeautifulSoup(classes_html, 'html.parser')\n",
    "vehicle_classes=['Convertibles']\n",
    "for element in vehicle_class_soup.find_all('li'):\n",
    "    vehicle_classes.append(element.text.replace('\\n', ''))\n",
    "vehicle_classes"
   ]
  },
  {
   "cell_type": "markdown",
   "id": "6d7ded5d",
   "metadata": {},
   "source": [
    "Create list of vehicle class urls"
   ]
  },
  {
   "cell_type": "code",
   "execution_count": 65,
   "id": "7513e61f",
   "metadata": {},
   "outputs": [
    {
     "data": {
      "text/plain": [
       "['https://www.consumerreports.org/cars/types/used/convertibles',\n",
       " 'https://www.consumerreports.org/cars/types/used/hybrids-evs',\n",
       " 'https://www.consumerreports.org/cars/types/used/luxury-cars',\n",
       " 'https://www.consumerreports.org/cars/types/used/minivans',\n",
       " 'https://www.consumerreports.org/cars/types/used/pickup-trucks',\n",
       " 'https://www.consumerreports.org/cars/types/used/sedans',\n",
       " 'https://www.consumerreports.org/cars/types/used/small-cars',\n",
       " 'https://www.consumerreports.org/cars/types/used/sports-cars',\n",
       " 'https://www.consumerreports.org/cars/types/used/suvs',\n",
       " 'https://www.consumerreports.org/cars/types/used/wagons']"
      ]
     },
     "execution_count": 65,
     "metadata": {},
     "output_type": "execute_result"
    }
   ],
   "source": [
    "vehicle_class_urls=[]\n",
    "for vehicle_class in vehicle_classes:\n",
    "    formatted_vehicle_class = vehicle_class.replace('/', '-').replace(' ', '-').lower()\n",
    "    vehicle_class_urls.append(f'https://www.consumerreports.org/cars/types/used/{formatted_vehicle_class}')\n",
    "vehicle_class_urls"
   ]
  },
  {
   "cell_type": "markdown",
   "id": "2e8d095e",
   "metadata": {},
   "source": [
    "Get html for each vehicle class url with list of vehicles for that class"
   ]
  },
  {
   "cell_type": "code",
   "execution_count": 66,
   "id": "4fbda868",
   "metadata": {},
   "outputs": [],
   "source": [
    "soups = []\n",
    "for url in vehicle_class_urls:\n",
    "    driver.get(url)\n",
    "    time.sleep(1)\n",
    "    table_html = driver.find_element_by_xpath('/html/body/div[4]/div/div[2]/div/div[2]/table/tbody').get_attribute('innerHTML')\n",
    "    soups.append(BeautifulSoup(table_html,'html.parser'))"
   ]
  },
  {
   "cell_type": "markdown",
   "id": "91481461",
   "metadata": {},
   "source": [
    "Create list of all Consumer Reports rated used vehicles from vehicle class urls html"
   ]
  },
  {
   "cell_type": "code",
   "execution_count": 67,
   "id": "d48df8ee",
   "metadata": {},
   "outputs": [
    {
     "data": {
      "text/plain": [
       "['Mercedes-Benz:B-Class Electric Drive',\n",
       " 'Volvo:XC70',\n",
       " 'Scion:tC',\n",
       " 'Volkswagen:Atlas',\n",
       " 'Toyota:Prius V',\n",
       " 'Kia:Forte',\n",
       " 'Jeep:Grand Cherokee L',\n",
       " 'Mercury:Villager',\n",
       " 'Chevrolet:TrailBlazer',\n",
       " 'Toyota:Camry Solara']"
      ]
     },
     "execution_count": 67,
     "metadata": {},
     "output_type": "execute_result"
    }
   ],
   "source": [
    "cars_list = []\n",
    "for soup in soups:\n",
    "    for item in soup.find_all('tr'):\n",
    "        if len(item.find_all('td', {'rowspan': '4'}))>0:\n",
    "            model = item.find('td').find('div').find('div').find('div').find('a').find('span').text\n",
    "            brand = item.find('td').find('div').find('div').find('div').find('a').text.replace(model, '')\n",
    "            cars_list.append(brand+':'+model)\n",
    "\n",
    "cars_list = list(set(cars_list))\n",
    "cars_list[0:10]"
   ]
  },
  {
   "cell_type": "markdown",
   "id": "d80ac5f1",
   "metadata": {},
   "source": [
    "Create list of urls to scrape from cars list"
   ]
  },
  {
   "cell_type": "code",
   "execution_count": 68,
   "id": "eed311d0",
   "metadata": {},
   "outputs": [
    {
     "data": {
      "text/plain": [
       "['https://www.consumerreports.org/cars/mercedes-benz/b-class-electric-drive/2019/overview/',\n",
       " 'https://www.consumerreports.org/cars/volvo/xc70/2019/overview/',\n",
       " 'https://www.consumerreports.org/cars/scion/tc/2019/overview/',\n",
       " 'https://www.consumerreports.org/cars/volkswagen/atlas/2019/overview/',\n",
       " 'https://www.consumerreports.org/cars/toyota/prius-v/2019/overview/',\n",
       " 'https://www.consumerreports.org/cars/kia/forte/2019/overview/',\n",
       " 'https://www.consumerreports.org/cars/jeep/grand-cherokee-l/2019/overview/',\n",
       " 'https://www.consumerreports.org/cars/mercury/villager/2019/overview/',\n",
       " 'https://www.consumerreports.org/cars/chevrolet/trailblazer/2019/overview/',\n",
       " 'https://www.consumerreports.org/cars/toyota/camry-solara/2019/overview/']"
      ]
     },
     "execution_count": 68,
     "metadata": {},
     "output_type": "execute_result"
    }
   ],
   "source": [
    "reviews_urls_list = []\n",
    "for car in cars_list:\n",
    "    car = car.replace(' ', '-').lower()\n",
    "    car_brand = car.split(':')[0]\n",
    "    car_model = car.split(':')[1]\n",
    "    reviews_urls_list.append(f'https://www.consumerreports.org/cars/{car_brand}/{car_model}/2019/overview/')\n",
    "reviews_urls_list[0:10]"
   ]
  },
  {
   "cell_type": "markdown",
   "id": "90e93a67",
   "metadata": {},
   "source": [
    "Write code to retrieve datapoints from overview review pages"
   ]
  },
  {
   "cell_type": "code",
   "execution_count": 108,
   "id": "594fe55d",
   "metadata": {},
   "outputs": [],
   "source": [
    "driver.get(reviews_urls_list[3])"
   ]
  },
  {
   "cell_type": "code",
   "execution_count": 109,
   "id": "f8644523",
   "metadata": {},
   "outputs": [
    {
     "data": {
      "text/plain": [
       "[['Reliability', '2'],\n",
       " ['Acceleration', '3'],\n",
       " ['Braking', '4'],\n",
       " ['Ride', '4'],\n",
       " ['Noise', '4'],\n",
       " ['Front Seat Comfort', '4'],\n",
       " ['Rear Seat Comfort', '5'],\n",
       " ['Interior Fit and Finish', '4'],\n",
       " ['Trunk/Cargo Area', '4'],\n",
       " ['Fuel Economy', '2']]"
      ]
     },
     "execution_count": 109,
     "metadata": {},
     "output_type": "execute_result"
    }
   ],
   "source": [
    "data = []\n",
    "data.append([driver.find_element_by_xpath('/html/body/div[6]/div/div/div/div/div/div[1]/div[1]/a/div[1]').text.title(),\n",
    "        driver.find_element_by_xpath('/html/body/div[6]/div/div/div/div/div/div[1]/div[1]/a/div[2]/div/div/div[2]/span[1]').text.strip()])\n",
    "for index in [2, 7]:\n",
    "    data.append([driver.find_element_by_xpath(f'/html/body/div[7]/div[1]/div[1]/div[2]/div[1]/div[2]/div/div[{index}]/div[1]/span').text,\n",
    "           driver.find_element_by_xpath(f'/html/body/div[7]/div[1]/div[1]/div[2]/div[1]/div[2]/div/div[{index}]/div[2]/div/div/div/div/div[2]/span/span').text])\n",
    "for index in [2, 4, 6, 8, 10, 12, ]:\n",
    "    data.append([driver.find_element_by_xpath(f'/html/body/div[7]/div[1]/div[1]/div[2]/div[2]/div[2]/div/div[{index}]/div[1]/span').text,\n",
    "           driver.find_element_by_xpath(f'/html/body/div[7]/div[1]/div[1]/div[2]/div[2]/div[2]/div/div[{index}]/div[2]/div/div/div/div/div[2]/span/span').text])\n",
    "data.append([driver.find_element_by_xpath('/html/body/div[7]/div[1]/div[1]/div[2]/div[3]/div[2]/div/div[2]/div[1]/span').text,\n",
    "        driver.find_element_by_xpath('/html/body/div[7]/div[1]/div[1]/div[2]/div[3]/div[2]/div/div[2]/div[2]/div/div/div/div/div[2]/span/span').text])\n",
    "data"
   ]
  },
  {
   "cell_type": "markdown",
   "id": "b930fcb0",
   "metadata": {},
   "source": [
    "Write code to retrieve datapoints from ratings/specs review pages"
   ]
  },
  {
   "cell_type": "code",
   "execution_count": 124,
   "id": "3aa0bad2",
   "metadata": {},
   "outputs": [],
   "source": [
    "driver.get(reviews_urls_list[3].replace('overview/', 'ratings-specs/?pagestop'))\n",
    "driver.find_element_by_xpath('/html/body/div[6]/div/div[2]/div[3]/h3/div[2]').click()\n",
    "driver.find_element_by_xpath('/html/body/div[6]/div/div[2]/div[7]/h3/div[2]').click()"
   ]
  },
  {
   "cell_type": "code",
   "execution_count": 127,
   "id": "b2a63023",
   "metadata": {},
   "outputs": [
    {
     "data": {
      "text/plain": [
       "[['Routine Handling', '4'],\n",
       " ['Headlights', '3'],\n",
       " ['Driving Position', '4'],\n",
       " ['Third Seat Comfort', '3'],\n",
       " ['Usability', '4'],\n",
       " ['Max. Load', '1215 lb.']]"
      ]
     },
     "execution_count": 127,
     "metadata": {},
     "output_type": "execute_result"
    }
   ],
   "source": [
    "data_2 = []\n",
    "data_2.append([driver.find_element_by_xpath('/html/body/div[6]/div/div[2]/div[2]/div/div/div[3]/div[1]/div').text.title(),\n",
    "        driver.find_element_by_xpath('/html/body/div[6]/div/div[2]/div[2]/div/div/div[3]/div[2]/div/div/div[2]/span[1]').text.strip()])\n",
    "data_2.append([driver.find_element_by_xpath('/html/body/div[6]/div/div[2]/div[2]/div/div/div[7]/div[1]/div').text.title(),\n",
    "        driver.find_element_by_xpath('/html/body/div[6]/div/div[2]/div[2]/div/div/div[7]/div[2]/div/div/div[2]/span[1]').text.strip()])\n",
    "data_2.append([driver.find_element_by_xpath('/html/body/div[6]/div/div[2]/div[3]/div/div/div[3]/div[1]/div').text.title(),\n",
    "        driver.find_element_by_xpath('/html/body/div[6]/div/div[2]/div[3]/div/div/div[4]/div[2]/div/div/div[2]/span[1]').text.strip()])\n",
    "data_2.append([driver.find_element_by_xpath('/html/body/div[6]/div/div[2]/div[3]/div/div/div[6]/div[1]/div').text.title(),\n",
    "        driver.find_element_by_xpath('/html/body/div[6]/div/div[2]/div[3]/div/div/div[6]/div[2]/div/div/div[2]/span[1]').text.strip()])\n",
    "data_2.append([driver.find_element_by_xpath('/html/body/div[6]/div/div[2]/div[3]/div/div/div[10]/div[1]/div').text.title(),\n",
    "        driver.find_element_by_xpath('/html/body/div[6]/div/div[2]/div[3]/div/div/div[10]/div[2]/div/div/div[2]/span[1]').text.strip()])\n",
    "data_2.append([driver.find_element_by_xpath('/html/body/div[6]/div/div[2]/div[7]/div/div/div[7]/div[1]/div').text.title(),\n",
    "        driver.find_element_by_xpath('/html/body/div[6]/div/div[2]/div[7]/div/div/div[7]/div[2]/div').text.strip()])\n",
    "\n",
    "data_2"
   ]
  }
 ],
 "metadata": {
  "kernelspec": {
   "display_name": "Python 3",
   "language": "python",
   "name": "python3"
  },
  "language_info": {
   "codemirror_mode": {
    "name": "ipython",
    "version": 3
   },
   "file_extension": ".py",
   "mimetype": "text/x-python",
   "name": "python",
   "nbconvert_exporter": "python",
   "pygments_lexer": "ipython3",
   "version": "3.9.5"
  }
 },
 "nbformat": 4,
 "nbformat_minor": 5
}
